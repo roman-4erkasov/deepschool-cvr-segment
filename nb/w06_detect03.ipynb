{
 "cells": [
  {
   "cell_type": "code",
   "execution_count": 3,
   "id": "81f0d3b2-9248-4f50-bff9-d6eb3dda9677",
   "metadata": {},
   "outputs": [
    {
     "name": "stderr",
     "output_type": "stream",
     "text": [
      "/home/fatuus/deepschool-cvr-segment/venv/lib/python3.10/site-packages/tqdm/auto.py:21: TqdmWarning: IProgress not found. Please update jupyter and ipywidgets. See https://ipywidgets.readthedocs.io/en/stable/user_install.html\n",
      "  from .autonotebook import tqdm as notebook_tqdm\n"
     ]
    }
   ],
   "source": [
    "import sys\n",
    "sys.path.append(\"..\")\n",
    "import math\n",
    "import torch\n",
    "import torch as th\n",
    "from PIL import Image\n",
    "import numpy as np\n",
    "\n",
    "import torchvision as thv\n",
    "# import torchmetrics as thm\n",
    "from torchmetrics.detection.mean_ap import MeanAveragePrecision\n",
    "from torchvision.models.detection.faster_rcnn import FastRCNNPredictor\n",
    "\n",
    "import pytorch_lightning as pl\n",
    "\n",
    "from src.datamodule import BarcodeDM\n",
    "from src.config import Config\n"
   ]
  },
  {
   "cell_type": "code",
   "execution_count": 4,
   "id": "51f2f08a-0b0d-4e6d-8b58-172937f3ab8a",
   "metadata": {},
   "outputs": [],
   "source": [
    "def is_dist_avail_and_initialized():\n",
    "    if not th.distributed.is_available():\n",
    "        return False\n",
    "    if not th.distributed.is_initialized():\n",
    "        return False\n",
    "    return True\n",
    "\n",
    "def get_world_size():\n",
    "    if not is_dist_avail_and_initialized():\n",
    "        return 1\n",
    "    return dist.get_world_size()\n",
    "\n",
    "def reduce_dict(input_dict, average=True):\n",
    "    \"\"\"\n",
    "    Args:\n",
    "        input_dict (dict): all the values will be reduced\n",
    "        average (bool): whether to do average or sum\n",
    "    Reduce the values in the dictionary from all processes so that all processes\n",
    "    have the averaged results. Returns a dict with the same fields as\n",
    "    input_dict, after reduction.\n",
    "    \"\"\"\n",
    "    world_size = get_world_size()\n",
    "    if world_size < 2:\n",
    "        return input_dict\n",
    "    with torch.inference_mode():\n",
    "        names = []\n",
    "        values = []\n",
    "        # sort the keys so that they are consistent across processes\n",
    "        for k in sorted(input_dict.keys()):\n",
    "            names.append(k)\n",
    "            values.append(input_dict[k])\n",
    "        values = torch.stack(values, dim=0)\n",
    "        dist.all_reduce(values)\n",
    "        if average:\n",
    "            values /= world_size\n",
    "        reduced_dict = {k: v for k, v in zip(names, values)}\n",
    "    return reduced_dict\n",
    "\n",
    "def train_one_epoch(model, optimizer, data_loader, device, epoch, scaler=None):\n",
    "    model.train()\n",
    "    loss_values = []\n",
    "    lr_scheduler = None\n",
    "    if epoch == 0:\n",
    "        warmup_factor = 1.0 / 1000\n",
    "        warmup_iters = min(1000, len(data_loader) - 1)\n",
    "        lr_scheduler = torch.optim.lr_scheduler.LinearLR(\n",
    "            optimizer, start_factor=warmup_factor, total_iters=warmup_iters\n",
    "        )\n",
    "    for i_batch, (images, targets) in enumerate(data_loader):\n",
    "        # print(f\"{i_batch=}\")\n",
    "        images = list(image.to(device) for image in images)\n",
    "        targets = [\n",
    "            {k: v.to(device) for k, v in t.items() if k!=\"ocr\"} \n",
    "            for t in targets\n",
    "        ]\n",
    "        # with torch.cuda.amp.autocast(enabled=scaler is not None):\n",
    "        loss_dict = model(images, targets)\n",
    "        losses = sum(loss for loss in loss_dict.values())\n",
    "        # reduce losses over all GPUs for logging purposes\n",
    "        loss_dict_reduced = reduce_dict(loss_dict)\n",
    "        losses_reduced = sum(loss for loss in loss_dict_reduced.values())\n",
    "        loss_value = losses_reduced.item()\n",
    "        if not math.isfinite(loss_value):\n",
    "            print(f\"Loss is {loss_value}, stopping training\")\n",
    "            print(loss_dict_reduced)\n",
    "            sys.exit(1)\n",
    "        optimizer.zero_grad()\n",
    "        if scaler is not None:\n",
    "            scaler.scale(losses).backward()\n",
    "            scaler.step(optimizer)\n",
    "            scaler.update()\n",
    "        else:\n",
    "            losses.backward()\n",
    "            optimizer.step()\n",
    "        if lr_scheduler is not None:\n",
    "            lr_scheduler.step()\n",
    "        loss_values.append(loss_value)\n",
    "    return loss_values"
   ]
  },
  {
   "cell_type": "code",
   "execution_count": 5,
   "id": "be5e800f-d986-4c36-96b1-37b56faf6493",
   "metadata": {},
   "outputs": [],
   "source": [
    "cfg = Config.from_yaml(\"../config/baseline_detect.yml\")\n",
    "data = BarcodeDM(cfg.data_config, task=cfg.task, dry_run=True)\n",
    "\n",
    "data.prepare_data()\n",
    "data.setup()\n",
    "train_loader = data.train_dataloader()\n"
   ]
  },
  {
   "cell_type": "code",
   "execution_count": 2,
   "id": "8a7046a5-c003-4ad4-8016-df1f83d99239",
   "metadata": {},
   "outputs": [
    {
     "ename": "NameError",
     "evalue": "name 'pl' is not defined",
     "output_type": "error",
     "traceback": [
      "\u001b[0;31m---------------------------------------------------------------------------\u001b[0m",
      "\u001b[0;31mNameError\u001b[0m                                 Traceback (most recent call last)",
      "Cell \u001b[0;32mIn[2], line 1\u001b[0m\n\u001b[0;32m----> 1\u001b[0m \u001b[38;5;28;01mclass\u001b[39;00m \u001b[38;5;21;01mDetectModel\u001b[39;00m(\u001b[43mpl\u001b[49m\u001b[38;5;241m.\u001b[39mLightningModule):\n\u001b[1;32m      2\u001b[0m     \u001b[38;5;28;01mdef\u001b[39;00m \u001b[38;5;21m__init__\u001b[39m(\u001b[38;5;28mself\u001b[39m, cfg: Config):\n\u001b[1;32m      3\u001b[0m         \u001b[38;5;28mself\u001b[39m\u001b[38;5;241m.\u001b[39mmodel \u001b[38;5;241m=\u001b[39m thv\u001b[38;5;241m.\u001b[39mmodels\u001b[38;5;241m.\u001b[39mdetection\u001b[38;5;241m.\u001b[39mfasterrcnn_resnet50_fpn()\n",
      "\u001b[0;31mNameError\u001b[0m: name 'pl' is not defined"
     ]
    }
   ],
   "source": [
    "class DetectModel(pl.LightningModule):\n",
    "    def __init__(self, cfg: Config):\n",
    "        self.model = thv.models.detection.fasterrcnn_resnet50_fpn()\n",
    "        in_features = model.roi_heads.box_predictor.cls_score.in_features\n",
    "        self.model.roi_heads.box_predictor = FastRCNNPredictor(in_features, 2)\n",
    "        # self.train_map = MeanAveragePrecision()\n",
    "        self.val_map = MeanAveragePrecision()\n",
    "        self.test_map = MeanAveragePrecision()\n",
    "    \n",
    "    def forward(self, x: torch.Tensor):\n",
    "        return self.model(x)\n",
    "    \n",
    "    def configure_optimizers(self):\n",
    "        params = [p for p in model.parameters() if p.requires_grad]\n",
    "        optimizer = torch.optim.SGD(\n",
    "            params, lr=0.05, momentum=0.9, weight_decay=0.0005\n",
    "        )\n",
    "        scheduler = torch.optim.lr_scheduler.StepLR(\n",
    "            optimizer, step_size=3, gamma=0.1\n",
    "        )\n",
    "        return [optimizer], [{\"scheduler\": scheduler, \"interval\": \"epoch\"}]\n",
    "            \n",
    "    def training_step(self, batch, batch_idx):\n",
    "        \"\"\"\n",
    "        \"\"\"\n",
    "        images, targets = batch\n",
    "        loss_dict = self.model(images, targets)\n",
    "        loss = sum(loss for loss in loss_dict.values())\n",
    "        self.log(\"train_loss\", loss, on_step=True, on_epoch=True)\n",
    "        return loss\n",
    "\n",
    "    def validation_step(self, batch, batch_idx):\n",
    "        pred = self.model(images)\n",
    "        self.val_map.update(\n",
    "            preds=pred,target=targets\n",
    "        )\n",
    "        self.log(\"val_map\", self.val_map, on_step=True, on_epoch=True)\n",
    "\n",
    "    def test_step(self, batch, batch_idx):\n",
    "        pred = self.model(images)\n",
    "        self.test_map.update(\n",
    "            preds=pred,target=targets\n",
    "        )\n",
    "        self.log(\"val_map\", self.test_map, on_step=True, on_epoch=True)\n",
    "\n",
    "    # def on_validation_epoch_start(self) -> None:\n",
    "    #     pass\n",
    "\n",
    "    #  def on_validation_epoch_end(self) -> None:\n",
    "    #      # self.log_dict(self._val_cls_metrics.compute(), on_epoch=True, on_step=False)\n",
    "    #      # self.log_dict(self._val_seg_metrics.compute(), on_epoch=True, on_step=False)\n",
    "    #      pass\n",
    "\n",
    "    # def on_test_epoch_end(self) -> None:\n",
    "    #     # self.log_dict(self._test_cls_metrics.compute(), on_epoch=True, on_step=False)\n",
    "    #     # self.log_dict(self._test_seg_metrics.compute(), on_epoch=True, on_step=False)\n",
    "    #     pass\n",
    "\n",
    "    def optimizer_step(self, *args, **kwargs):\n",
    "        super().optimizer_step(*args, **kwargs)\n",
    "        self.optimizer.step()\n",
    "        # self.lr_scheduler.step()  # Step per iteration\n"
   ]
  },
  {
   "cell_type": "code",
   "execution_count": 1,
   "id": "d4923790-9c76-46f5-818d-5fdcf784a4c5",
   "metadata": {},
   "outputs": [
    {
     "ename": "NameError",
     "evalue": "name 'DetectModel' is not defined",
     "output_type": "error",
     "traceback": [
      "\u001b[0;31m---------------------------------------------------------------------------\u001b[0m",
      "\u001b[0;31mNameError\u001b[0m                                 Traceback (most recent call last)",
      "Cell \u001b[0;32mIn[1], line 1\u001b[0m\n\u001b[0;32m----> 1\u001b[0m model \u001b[38;5;241m=\u001b[39m \u001b[43mDetectModel\u001b[49m(config)\n",
      "\u001b[0;31mNameError\u001b[0m: name 'DetectModel' is not defined"
     ]
    }
   ],
   "source": [
    "model = DetectModel(config)"
   ]
  },
  {
   "cell_type": "code",
   "execution_count": null,
   "id": "f4aabc67-510d-48a8-bedb-b1ee01f85b07",
   "metadata": {},
   "outputs": [],
   "source": []
  },
  {
   "cell_type": "code",
   "execution_count": null,
   "id": "8ef2ee41-855f-4ac5-b46a-c521a646d07c",
   "metadata": {},
   "outputs": [],
   "source": []
  },
  {
   "cell_type": "code",
   "execution_count": null,
   "id": "ab643f0d-7462-4291-ad32-0edda722d5db",
   "metadata": {},
   "outputs": [],
   "source": []
  },
  {
   "cell_type": "code",
   "execution_count": null,
   "id": "76930ccf-a6b8-4d75-b72b-b7dd64086c2e",
   "metadata": {},
   "outputs": [],
   "source": []
  },
  {
   "cell_type": "code",
   "execution_count": null,
   "id": "3918845d-eaab-44d2-8c88-2de96f8d6454",
   "metadata": {},
   "outputs": [],
   "source": []
  },
  {
   "cell_type": "code",
   "execution_count": null,
   "id": "8e306100-f797-402a-b013-712de39e56b0",
   "metadata": {},
   "outputs": [],
   "source": []
  },
  {
   "cell_type": "code",
   "execution_count": 5,
   "id": "6e61b87e-5d58-48fe-af97-17db777d7fca",
   "metadata": {},
   "outputs": [],
   "source": [
    "model = thv.models.detection.fasterrcnn_resnet50_fpn(\n",
    "    # pretrained=True\n",
    "    # weights=\"DEFAULT\"\n",
    "    \n",
    ")\n",
    "in_features = model.roi_heads.box_predictor.cls_score.in_features\n",
    "model.roi_heads.box_predictor = FastRCNNPredictor(in_features, 2)"
   ]
  },
  {
   "cell_type": "code",
   "execution_count": 7,
   "id": "0bb511ab-9efa-461c-9c74-f57d48e1e0c9",
   "metadata": {},
   "outputs": [],
   "source": [
    "# construct an optimizer\n",
    "params = [p for p in model.parameters() if p.requires_grad]\n",
    "optimizer = torch.optim.SGD(\n",
    "    params, lr=0.05, momentum=0.9, weight_decay=0.0005\n",
    ")\n",
    "lr_scheduler = torch.optim.lr_scheduler.StepLR(\n",
    "    optimizer, step_size=3, gamma=0.1\n",
    ")"
   ]
  },
  {
   "cell_type": "code",
   "execution_count": 8,
   "id": "b94aeb36-e3e8-4623-923b-5437d8a8dff7",
   "metadata": {},
   "outputs": [
    {
     "name": "stdout",
     "output_type": "stream",
     "text": [
      "tensor(1.2451) : [1.3541381359100342, 1.3775279521942139, 1.0037707090377808]\n",
      "metrics={'map': tensor(0.), 'map_50': tensor(0.), 'map_75': tensor(0.), 'map_small': tensor(-1.), 'map_medium': tensor(-1.), 'map_large': tensor(0.), 'mar_1': tensor(0.), 'mar_10': tensor(0.), 'mar_100': tensor(0.), 'mar_small': tensor(-1.), 'mar_medium': tensor(-1.), 'mar_large': tensor(0.), 'map_per_class': tensor(-1.), 'mar_100_per_class': tensor(-1.)}\n",
      "\n",
      "tensor(0.3949) : [0.5162265300750732, 0.5149989128112793, 0.15335889160633087]\n",
      "metrics={'map': tensor(0.), 'map_50': tensor(0.), 'map_75': tensor(0.), 'map_small': tensor(-1.), 'map_medium': tensor(-1.), 'map_large': tensor(0.), 'mar_1': tensor(0.), 'mar_10': tensor(0.), 'mar_100': tensor(0.), 'mar_small': tensor(-1.), 'mar_medium': tensor(-1.), 'mar_large': tensor(0.), 'map_per_class': tensor(-1.), 'mar_100_per_class': tensor(-1.)}\n",
      "\n",
      "tensor(0.8522) : [0.41770943999290466, 1.842750906944275, 0.29606926441192627]\n",
      "metrics={'map': tensor(0.), 'map_50': tensor(0.), 'map_75': tensor(0.), 'map_small': tensor(-1.), 'map_medium': tensor(-1.), 'map_large': tensor(0.), 'mar_1': tensor(0.), 'mar_10': tensor(0.), 'mar_100': tensor(0.), 'mar_small': tensor(-1.), 'mar_medium': tensor(-1.), 'mar_large': tensor(0.), 'map_per_class': tensor(-1.), 'mar_100_per_class': tensor(-1.)}\n",
      "\n",
      "tensor(0.2808) : [0.31323879957199097, 0.24084481596946716, 0.28825944662094116]\n",
      "metrics={'map': tensor(0.0018), 'map_50': tensor(0.0127), 'map_75': tensor(0.), 'map_small': tensor(-1.), 'map_medium': tensor(-1.), 'map_large': tensor(0.0018), 'mar_1': tensor(0.), 'mar_10': tensor(0.), 'mar_100': tensor(0.1000), 'mar_small': tensor(-1.), 'mar_medium': tensor(-1.), 'mar_large': tensor(0.1000), 'map_per_class': tensor(-1.), 'mar_100_per_class': tensor(-1.)}\n",
      "\n",
      "tensor(0.2239) : [0.19149017333984375, 0.23068131506443024, 0.24953313171863556]\n",
      "metrics={'map': tensor(0.0056), 'map_50': tensor(0.0155), 'map_75': tensor(0.), 'map_small': tensor(-1.), 'map_medium': tensor(-1.), 'map_large': tensor(0.0056), 'mar_1': tensor(0.), 'mar_10': tensor(0.), 'mar_100': tensor(0.1500), 'mar_small': tensor(-1.), 'mar_medium': tensor(-1.), 'mar_large': tensor(0.1500), 'map_per_class': tensor(-1.), 'mar_100_per_class': tensor(-1.)}\n",
      "\n"
     ]
    }
   ],
   "source": [
    "for epoch in range(5):\n",
    "    losses = train_one_epoch(\n",
    "        model, \n",
    "        optimizer, \n",
    "        train_loader, \n",
    "        device=th.device('cpu'), \n",
    "        epoch=0\n",
    "    )\n",
    "    lr_scheduler.step()\n",
    "    print(th.mean(th.FloatTensor(losses)),\":\", losses)\n",
    "    # def eval_step(model, data_loader):\n",
    "    data_loader = data.train_dataloader()\n",
    "    metric = MeanAveragePrecision()\n",
    "    model.eval()\n",
    "    for i_batch, (images, targets) in enumerate(data_loader):\n",
    "        with th.no_grad():\n",
    "            pred = model(images)\n",
    "            losses = model(images, targets)\n",
    "        # print(f\"losses={losses}\")\n",
    "        metric.update(\n",
    "            preds=pred,target=targets\n",
    "        )\n",
    "    print(f\"metrics={metric.compute()}\")\n",
    "    print()"
   ]
  },
  {
   "cell_type": "code",
   "execution_count": 10,
   "id": "bbcc8ca0-5842-4e94-a3f0-4286b42d2f17",
   "metadata": {},
   "outputs": [
    {
     "data": {
      "text/plain": [
       "(tensor([[[0.3608, 0.3608, 0.3608,  ..., 0.5294, 0.5333, 0.6588],\n",
       "          [0.3608, 0.3608, 0.3608,  ..., 0.5294, 0.5333, 0.6588],\n",
       "          [0.3608, 0.3608, 0.3647,  ..., 0.5333, 0.5333, 0.6549],\n",
       "          ...,\n",
       "          [0.6039, 0.6039, 0.6039,  ..., 0.8941, 0.9059, 0.9176],\n",
       "          [0.6039, 0.6039, 0.6039,  ..., 0.8941, 0.9059, 0.9176],\n",
       "          [0.6078, 0.6039, 0.6078,  ..., 0.8941, 0.9059, 0.9176]],\n",
       " \n",
       "         [[0.2745, 0.2745, 0.2745,  ..., 0.5020, 0.5059, 0.6314],\n",
       "          [0.2745, 0.2745, 0.2745,  ..., 0.5020, 0.5059, 0.6314],\n",
       "          [0.2745, 0.2745, 0.2784,  ..., 0.5059, 0.5059, 0.6275],\n",
       "          ...,\n",
       "          [0.5529, 0.5529, 0.5569,  ..., 0.9098, 0.9216, 0.9333],\n",
       "          [0.5529, 0.5529, 0.5569,  ..., 0.9098, 0.9216, 0.9333],\n",
       "          [0.5569, 0.5529, 0.5608,  ..., 0.9098, 0.9216, 0.9333]],\n",
       " \n",
       "         [[0.2314, 0.2314, 0.2314,  ..., 0.4392, 0.4431, 0.5686],\n",
       "          [0.2314, 0.2314, 0.2314,  ..., 0.4392, 0.4431, 0.5686],\n",
       "          [0.2314, 0.2314, 0.2353,  ..., 0.4431, 0.4431, 0.5647],\n",
       "          ...,\n",
       "          [0.4784, 0.4784, 0.4706,  ..., 0.9451, 0.9569, 0.9686],\n",
       "          [0.4784, 0.4784, 0.4706,  ..., 0.9451, 0.9569, 0.9686],\n",
       "          [0.4824, 0.4784, 0.4745,  ..., 0.9451, 0.9569, 0.9686]]]),\n",
       " tensor([[[0.5529, 0.5529, 0.5490,  ..., 0.5804, 0.5843, 0.5843],\n",
       "          [0.5490, 0.5490, 0.5490,  ..., 0.5804, 0.5843, 0.5843],\n",
       "          [0.5451, 0.5451, 0.5451,  ..., 0.5804, 0.5804, 0.5804],\n",
       "          ...,\n",
       "          [0.1843, 0.2157, 0.2588,  ..., 0.0745, 0.0706, 0.0667],\n",
       "          [0.1725, 0.2078, 0.2627,  ..., 0.0784, 0.0706, 0.0627],\n",
       "          [0.1686, 0.2000, 0.2510,  ..., 0.0824, 0.0745, 0.0627]],\n",
       " \n",
       "         [[0.0588, 0.0588, 0.0549,  ..., 0.0549, 0.0510, 0.0510],\n",
       "          [0.0549, 0.0549, 0.0549,  ..., 0.0549, 0.0510, 0.0510],\n",
       "          [0.0510, 0.0510, 0.0510,  ..., 0.0549, 0.0549, 0.0549],\n",
       "          ...,\n",
       "          [0.0980, 0.1294, 0.1804,  ..., 0.0118, 0.0078, 0.0039],\n",
       "          [0.0863, 0.1216, 0.1843,  ..., 0.0157, 0.0078, 0.0000],\n",
       "          [0.0824, 0.1137, 0.1725,  ..., 0.0196, 0.0118, 0.0000]],\n",
       " \n",
       "         [[0.1020, 0.1020, 0.0980,  ..., 0.0980, 0.0980, 0.0980],\n",
       "          [0.0980, 0.0980, 0.0980,  ..., 0.0980, 0.0980, 0.0980],\n",
       "          [0.0941, 0.0941, 0.0941,  ..., 0.0980, 0.0980, 0.0980],\n",
       "          ...,\n",
       "          [0.1059, 0.1373, 0.1882,  ..., 0.0118, 0.0078, 0.0039],\n",
       "          [0.0941, 0.1294, 0.1922,  ..., 0.0157, 0.0078, 0.0000],\n",
       "          [0.0902, 0.1216, 0.1804,  ..., 0.0196, 0.0118, 0.0000]]]))"
      ]
     },
     "execution_count": 10,
     "metadata": {},
     "output_type": "execute_result"
    }
   ],
   "source": [
    "images"
   ]
  },
  {
   "cell_type": "code",
   "execution_count": 12,
   "id": "44ee79df-0ebc-4a67-b862-a69ef155195e",
   "metadata": {},
   "outputs": [
    {
     "data": {
      "text/plain": [
       "({'boxes': tensor([[592, 269, 839, 717]]),\n",
       "  'ocr': '4605035006964',\n",
       "  'labels': tensor([1])},\n",
       " {'boxes': tensor([[657, 173, 950, 762]]),\n",
       "  'ocr': '4820240030508',\n",
       "  'labels': tensor([1])})"
      ]
     },
     "execution_count": 12,
     "metadata": {},
     "output_type": "execute_result"
    }
   ],
   "source": [
    "targets"
   ]
  },
  {
   "cell_type": "code",
   "execution_count": 11,
   "id": "ca0ea7e1-30a3-48e3-a952-9b4fcd333f38",
   "metadata": {},
   "outputs": [
    {
     "data": {
      "text/plain": [
       "{'boxes': tensor([[ 275.3355,  350.9869,  468.2901,  790.8179],\n",
       "         [ 356.6255,  389.5027,  548.2433,  825.1721],\n",
       "         [ 556.1147,  443.6824,  747.8806,  868.8380],\n",
       "         [ 194.1274,  346.7745,  386.8185,  784.0795],\n",
       "         [ 635.1625,  398.5859,  827.3735,  822.6014],\n",
       "         [ 476.9675,  396.8798,  670.3206,  828.6777],\n",
       "         [ 596.6187,  522.2919,  788.1330,  943.2504],\n",
       "         [ 402.0470,  405.9496,  981.7090,  871.9981],\n",
       "         [ 515.6664,  522.2070,  707.3858,  947.6672],\n",
       "         [ 236.3058,  442.1051,  426.7404,  870.9706],\n",
       "         [ 593.3947,  318.1206,  787.8076,  744.8722],\n",
       "         [ 195.7943,  600.8182,  387.4885, 1031.0927],\n",
       "         [ 433.3954,  649.4655,  731.2982,  970.6425],\n",
       "         [ 197.3358,  169.4981,  388.4341,  590.7922],\n",
       "         [ 316.5822,  561.7359,  508.3601,  984.6205],\n",
       "         [ 717.3361,  427.3879,  909.5702,  860.5986],\n",
       "         [ 191.5795,  335.3460,  490.1313,  659.9505],\n",
       "         [ 153.1497,  442.9861,  345.5234,  871.3863],\n",
       "         [ 395.6540,  561.3019,  587.1967,  984.4371],\n",
       "         [ 749.7317,  487.4335,  990.5659,  815.1805],\n",
       "         [ 387.9809,  371.8289,  690.1547,  694.0968],\n",
       "         [ 315.6330,  284.1357,  506.5521,  708.0146],\n",
       "         [ 550.0730,  196.4333,  741.3086,  623.1883],\n",
       "         [ 631.2659,  571.5821,  932.0605,  893.1138],\n",
       "         [ 631.5335,  376.3891,  925.5911,  694.7125],\n",
       "         [ 354.4541,  162.6369,  542.3529,  587.6173],\n",
       "         [ 355.6048,  633.2578,  550.4305, 1062.9393],\n",
       "         [ 276.5217,  208.1143,  466.3019,  626.4024],\n",
       "         [ 591.4579,  652.1721,  888.8954,  972.9890],\n",
       "         [ 113.7666,  360.0421,  304.9947,  790.3103],\n",
       "         [ 110.2936,  573.1009,  411.8398,  895.0138],\n",
       "         [ 592.4630,  112.1306,  785.0513,  540.9154],\n",
       "         [ 511.4807,   72.8842,  703.0458,  498.8912],\n",
       "         [ 471.8715,  154.6604,  665.2205,  578.6581],\n",
       "         [ 428.2221,    0.0000,  815.7871,  778.4943],\n",
       "         [ 483.3415,  246.5956,  982.4286,  707.6618],\n",
       "         [ 389.7572,   83.1410,  579.9801,  502.3852],\n",
       "         [ 196.8416,    0.0000,  572.0216,  679.1485],\n",
       "         [ 193.3219,  797.3088,  382.3941, 1226.9811],\n",
       "         [ 707.4407,  654.2843,  988.9194,  974.3064],\n",
       "         [ 274.1110,  719.2422,  462.4478, 1150.6321],\n",
       "         [ 281.4967,  641.7498,  656.9073, 1333.0000],\n",
       "         [ 550.5001,    0.0000,  745.7693,  420.8760],\n",
       "         [ 301.8678,    0.0000,  693.0346,  527.6751],\n",
       "         [ 596.0520,  506.1424,  986.5814, 1172.5559],\n",
       "         [ 114.1404,  210.9781,  305.9057,  637.7181],\n",
       "         [ 434.5070,  241.9808,  623.5967,  663.1962],\n",
       "         [ 673.9437,  240.4976,  867.1329,  655.1797],\n",
       "         [ 555.9271,  632.5313,  752.0291, 1063.8596],\n",
       "         [ 114.4490,  595.3306,  306.0930, 1028.5128],\n",
       "         [ 151.6421,   94.2423,  339.8862,  516.7883],\n",
       "         [ 154.4221,  714.4078,  347.9426, 1146.4623],\n",
       "         [ 226.3698,   50.1049,  415.8842,  470.2296],\n",
       "         [ 433.6005,  717.3906,  623.6180, 1149.1471],\n",
       "         [ 508.4925,  559.2045,  886.7867, 1333.0000],\n",
       "         [   9.4299,  323.3398,  661.6707,  790.5483],\n",
       "         [ 482.3770,   77.9113,  983.2885,  542.8096],\n",
       "         [ 114.6033,  795.0534,  304.7574, 1221.6866],\n",
       "         [ 756.6417,  303.1005,  947.4588,  732.0724],\n",
       "         [ 595.9475,    0.0000,  986.2979,  373.6192],\n",
       "         [ 660.4717,    0.0000,  987.3046,  807.4442],\n",
       "         [ 121.4634,  735.2058,  501.9701, 1333.0000],\n",
       "         [ 391.6509,  806.1125,  579.7252, 1227.3342],\n",
       "         [ 310.7814,  809.7151,  499.4703, 1223.5603],\n",
       "         [  74.7213,  443.5765,  267.1531,  872.9744],\n",
       "         [ 431.2206,  889.5273,  618.9285, 1306.5197],\n",
       "         [ 510.6370,  762.9583,  699.5164, 1191.3324],\n",
       "         [ 629.6445,    0.0000,  823.0049,  422.4735],\n",
       "         [   8.8792,  481.7958,  656.7569,  942.3420],\n",
       "         [ 115.3286,    0.0000,  722.8897,  358.5736],\n",
       "         [ 272.0093,  886.1938,  462.2606, 1303.8151],\n",
       "         [ 670.8000,   74.3114,  861.7615,  498.8870],\n",
       "         [ 151.5500,  884.6235,  340.2382, 1307.3448],\n",
       "         [ 794.7476,  765.3228,  982.2900, 1198.3542],\n",
       "         [ 713.2432,  159.0252,  903.9295,  578.6784],\n",
       "         [ 350.8511,  886.3642,  540.8102, 1301.8104],\n",
       "         [ 712.4490,  764.2703,  899.2467, 1194.3993],\n",
       "         [ 257.5592,    0.0000,  972.6512,  226.7417],\n",
       "         [ 350.6873,  907.5862,  723.4795, 1333.0000],\n",
       "         [  69.8869,    0.0000,  455.5052,  535.7196],\n",
       "         [ 550.7244,  854.4767,  737.4574, 1274.9540],\n",
       "         [   7.1158,  649.1520,  651.9702, 1106.8827],\n",
       "         [ 750.4357,  848.4665,  939.9208, 1270.1267],\n",
       "         [ 633.0448,  713.3372,  823.5430, 1143.7963],\n",
       "         [  71.5012,  285.8647,  261.1577,  707.1671],\n",
       "         [  72.8508,  883.4635,  262.8707, 1305.2217],\n",
       "         [ 495.1387,  957.8079,  980.9669, 1333.0000],\n",
       "         [   6.8168,  106.8370,  477.4052,  751.6025],\n",
       "         [ 788.7448,  120.8790,  978.5908,  541.4345],\n",
       "         [ 791.4645,  929.0801,  978.5710, 1333.0000],\n",
       "         [   5.6755,  352.6157,  401.9088, 1002.8335],\n",
       "         [  77.1190,  678.2657,  264.1754, 1102.5460],\n",
       "         [ 749.8302,   43.0518,  939.4438,  459.0030],\n",
       "         [  54.0402,  982.1619,  433.9611, 1333.0000],\n",
       "         [ 672.9080,  891.3347,  860.3486, 1311.6718],\n",
       "         [   5.6234,  644.0897,  353.5159, 1333.0000],\n",
       "         [  73.2466,  129.0683,  258.7926,  552.4914],\n",
       "         [   6.5318,    0.0000,  603.1664,  223.1956],\n",
       "         [ 281.5674,   78.6228,  660.4453,  921.3312],\n",
       "         [   3.6740,  573.6084,  286.1587,  901.4913]]),\n",
       " 'labels': tensor([1, 1, 1, 1, 1, 1, 1, 1, 1, 1, 1, 1, 1, 1, 1, 1, 1, 1, 1, 1, 1, 1, 1, 1,\n",
       "         1, 1, 1, 1, 1, 1, 1, 1, 1, 1, 1, 1, 1, 1, 1, 1, 1, 1, 1, 1, 1, 1, 1, 1,\n",
       "         1, 1, 1, 1, 1, 1, 1, 1, 1, 1, 1, 1, 1, 1, 1, 1, 1, 1, 1, 1, 1, 1, 1, 1,\n",
       "         1, 1, 1, 1, 1, 1, 1, 1, 1, 1, 1, 1, 1, 1, 1, 1, 1, 1, 1, 1, 1, 1, 1, 1,\n",
       "         1, 1, 1, 1]),\n",
       " 'scores': tensor([0.1615, 0.1604, 0.1591, 0.1588, 0.1575, 0.1571, 0.1549, 0.1530, 0.1524,\n",
       "         0.1507, 0.1494, 0.1487, 0.1482, 0.1482, 0.1479, 0.1475, 0.1471, 0.1458,\n",
       "         0.1454, 0.1445, 0.1440, 0.1438, 0.1438, 0.1432, 0.1429, 0.1421, 0.1419,\n",
       "         0.1413, 0.1406, 0.1403, 0.1402, 0.1401, 0.1392, 0.1390, 0.1383, 0.1379,\n",
       "         0.1371, 0.1370, 0.1369, 0.1364, 0.1358, 0.1345, 0.1342, 0.1342, 0.1340,\n",
       "         0.1339, 0.1336, 0.1334, 0.1332, 0.1324, 0.1322, 0.1322, 0.1321, 0.1320,\n",
       "         0.1298, 0.1292, 0.1291, 0.1289, 0.1289, 0.1285, 0.1284, 0.1282, 0.1276,\n",
       "         0.1274, 0.1268, 0.1267, 0.1265, 0.1259, 0.1253, 0.1253, 0.1250, 0.1249,\n",
       "         0.1233, 0.1232, 0.1230, 0.1228, 0.1214, 0.1213, 0.1204, 0.1199, 0.1192,\n",
       "         0.1191, 0.1188, 0.1188, 0.1182, 0.1176, 0.1173, 0.1170, 0.1165, 0.1164,\n",
       "         0.1156, 0.1156, 0.1155, 0.1152, 0.1142, 0.1128, 0.1107, 0.1048, 0.1000,\n",
       "         0.0995])}"
      ]
     },
     "execution_count": 11,
     "metadata": {},
     "output_type": "execute_result"
    }
   ],
   "source": [
    "pred[0]"
   ]
  },
  {
   "cell_type": "code",
   "execution_count": 18,
   "id": "acae9660-213a-4605-9813-0cd706beb494",
   "metadata": {},
   "outputs": [
    {
     "data": {
      "text/plain": [
       "torchvision.models.detection.faster_rcnn.FasterRCNN"
      ]
     },
     "execution_count": 18,
     "metadata": {},
     "output_type": "execute_result"
    }
   ],
   "source": [
    "type(model)\n",
    "#(images,targets)"
   ]
  },
  {
   "cell_type": "code",
   "execution_count": null,
   "id": "5a087374-7276-4e83-8dc3-3887c05cfd1b",
   "metadata": {},
   "outputs": [],
   "source": [
    "[x for x in pred if x[\"scores\"].nelement()]"
   ]
  },
  {
   "cell_type": "code",
   "execution_count": 19,
   "id": "63215ec1-27bb-4ce1-9bd2-f3d022e0a602",
   "metadata": {},
   "outputs": [
    {
     "data": {
      "text/plain": [
       "'/home/fatuus/deepschool-cvr-segment/venv/lib/python3.10/site-packages/torchvision/models/detection/faster_rcnn.py'"
      ]
     },
     "execution_count": 19,
     "metadata": {},
     "output_type": "execute_result"
    }
   ],
   "source": [
    "thv.models.detection.faster_rcnn.__file__"
   ]
  },
  {
   "cell_type": "code",
   "execution_count": null,
   "id": "98adc2c5-5c77-476a-925d-c6805d6fdcae",
   "metadata": {},
   "outputs": [],
   "source": []
  },
  {
   "cell_type": "code",
   "execution_count": null,
   "id": "fd2f66d8-4f87-4d53-8a29-324f41e2258c",
   "metadata": {},
   "outputs": [],
   "source": [
    "metric.compute()"
   ]
  },
  {
   "cell_type": "code",
   "execution_count": null,
   "id": "b68c6647-ed96-4cfd-89c0-e29cac6afd6a",
   "metadata": {},
   "outputs": [],
   "source": [
    "thv.ops.box_iou?"
   ]
  },
  {
   "cell_type": "code",
   "execution_count": null,
   "id": "633e689b-9e9c-44e0-bfcf-9da5b7c3a024",
   "metadata": {},
   "outputs": [],
   "source": [
    "targets"
   ]
  },
  {
   "cell_type": "code",
   "execution_count": null,
   "id": "563c4545-c35d-4932-9c2e-f3ad85941737",
   "metadata": {},
   "outputs": [],
   "source": [
    "model(images, targets)"
   ]
  },
  {
   "cell_type": "code",
   "execution_count": null,
   "id": "234bec94-b4b4-4d2e-ace1-eeae79c14776",
   "metadata": {},
   "outputs": [],
   "source": [
    "_=model.eval()"
   ]
  },
  {
   "cell_type": "code",
   "execution_count": null,
   "id": "41bef6c0-2dc6-4aa9-8e92-21e2518e07ac",
   "metadata": {
    "scrolled": true
   },
   "outputs": [],
   "source": [
    "model(images)"
   ]
  },
  {
   "cell_type": "code",
   "execution_count": null,
   "id": "504010e1-ccae-4c11-8c21-8392f84dd17a",
   "metadata": {},
   "outputs": [],
   "source": [
    "thv.ops.box_iou(\n",
    "    [x for x in pred if x[\"scores\"].nelement()],\n",
    "    targets\n",
    ")"
   ]
  },
  {
   "cell_type": "code",
   "execution_count": null,
   "id": "1d21c61f-435b-482f-9655-1c6ed10b6391",
   "metadata": {},
   "outputs": [],
   "source": [
    "b.keys()"
   ]
  },
  {
   "cell_type": "code",
   "execution_count": null,
   "id": "cd75df9d-4db7-44d7-9efc-db39bfaa5801",
   "metadata": {},
   "outputs": [],
   "source": [
    "b[\"label\"]"
   ]
  },
  {
   "cell_type": "code",
   "execution_count": null,
   "id": "e895004e-10a6-48dd-bf93-6277f4e4337b",
   "metadata": {},
   "outputs": [],
   "source": [
    "b[\"boxes\"] = b[\"label\"]"
   ]
  },
  {
   "cell_type": "code",
   "execution_count": null,
   "id": "a18a893f-fde5-449e-b2d8-b24fcd883b8b",
   "metadata": {},
   "outputs": [],
   "source": [
    "import torch as th"
   ]
  },
  {
   "cell_type": "code",
   "execution_count": null,
   "id": "615c48bb-3d1e-4c93-bae1-57c065740968",
   "metadata": {},
   "outputs": [],
   "source": [
    "th.stack(b[\"boxes\"], axis=1)"
   ]
  },
  {
   "cell_type": "code",
   "execution_count": null,
   "id": "c5e0d55c-824b-4803-af6a-a2a3fbd7dbb2",
   "metadata": {},
   "outputs": [],
   "source": [
    "b[\"boxes\"]"
   ]
  },
  {
   "cell_type": "code",
   "execution_count": null,
   "id": "f74576aa-1761-4f81-8415-088fe4ef099d",
   "metadata": {},
   "outputs": [],
   "source": [
    "targets = []\n",
    "for bbox in b[\"label\"]:\n",
    "    targets.append(\n",
    "        {\n",
    "            \"boxes\": \n",
    "        }\n",
    "    )"
   ]
  },
  {
   "cell_type": "code",
   "execution_count": null,
   "id": "d0e5cb42-5870-49cf-b729-1396b9ca3f64",
   "metadata": {},
   "outputs": [],
   "source": [
    "th2pil = thv.transforms.ToPILImage()"
   ]
  },
  {
   "cell_type": "code",
   "execution_count": null,
   "id": "30b50893-5a57-4787-96f0-a70450a5337b",
   "metadata": {},
   "outputs": [],
   "source": [
    "th2pil(b[\"image\"][0].tra)"
   ]
  },
  {
   "cell_type": "code",
   "execution_count": null,
   "id": "3f4f6e5d-3467-4592-b9d5-4e4c2f40b18b",
   "metadata": {
    "scrolled": true
   },
   "outputs": [],
   "source": [
    "modelb[\"image\"][:1], [{\"boxes\":th.stack(b[\"boxes\"], axis=1)}])"
   ]
  },
  {
   "cell_type": "code",
   "execution_count": null,
   "id": "f4bb36fb-f1ff-492e-b268-836edb7f0876",
   "metadata": {},
   "outputs": [],
   "source": []
  }
 ],
 "metadata": {
  "kernelspec": {
   "display_name": "Python 3 (ipykernel)",
   "language": "python",
   "name": "python3"
  },
  "language_info": {
   "codemirror_mode": {
    "name": "ipython",
    "version": 3
   },
   "file_extension": ".py",
   "mimetype": "text/x-python",
   "name": "python",
   "nbconvert_exporter": "python",
   "pygments_lexer": "ipython3",
   "version": "3.10.6"
  }
 },
 "nbformat": 4,
 "nbformat_minor": 5
}
