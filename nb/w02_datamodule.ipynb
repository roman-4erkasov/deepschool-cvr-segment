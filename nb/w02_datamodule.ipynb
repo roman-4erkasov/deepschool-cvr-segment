{
 "cells": [
  {
   "cell_type": "code",
   "execution_count": 1,
   "id": "cfc3f10c-09e1-467d-ba72-bc62dc013906",
   "metadata": {},
   "outputs": [
    {
     "name": "stderr",
     "output_type": "stream",
     "text": [
      "/home/fatuus/deepschool-cvr-segment/venv/lib/python3.10/site-packages/tqdm/auto.py:21: TqdmWarning: IProgress not found. Please update jupyter and ipywidgets. See https://ipywidgets.readthedocs.io/en/stable/user_install.html\n",
      "  from .autonotebook import tqdm as notebook_tqdm\n"
     ]
    }
   ],
   "source": [
    "import sys\n",
    "sys.path.append(\"../src\")\n",
    "\n",
    "from datamodule import BarcodeDM\n",
    "from config import Config\n"
   ]
  },
  {
   "cell_type": "code",
   "execution_count": 2,
   "id": "61fd9585-ff4f-4b26-b256-5e2ac8344dfd",
   "metadata": {},
   "outputs": [
    {
     "name": "stderr",
     "output_type": "stream",
     "text": [
      "/home/fatuus/deepschool-cvr-segment/venv/lib/python3.10/site-packages/omegaconf/resolvers/__init__.py:12: UserWarning: The `env` resolver is deprecated, see https://github.com/omry/omegaconf/issues/573\n",
      "  warnings.warn(\n"
     ]
    }
   ],
   "source": [
    "cfg = Config.from_yaml(\"../config/baseline.yml\")\n",
    "\n",
    "data = BarcodeDM(cfg.data_config)\n",
    "\n"
   ]
  },
  {
   "cell_type": "code",
   "execution_count": null,
   "id": "16a7d004-572e-4495-b45f-22cf055d2c31",
   "metadata": {},
   "outputs": [],
   "source": [
    "data.prepare_data()\n",
    "\n",
    "data.setup()\n",
    "\n",
    "train = data.train_dataloader()\n",
    "\n",
    "for b in train:\n",
    "    break"
   ]
  },
  {
   "cell_type": "code",
   "execution_count": 8,
   "id": "5a90a93a-2610-42d8-bba0-4810dbef47f1",
   "metadata": {},
   "outputs": [
    {
     "data": {
      "text/plain": [
       "dict_keys(['image', 'label', 'ocr'])"
      ]
     },
     "execution_count": 8,
     "metadata": {},
     "output_type": "execute_result"
    }
   ],
   "source": []
  },
  {
   "cell_type": "code",
   "execution_count": 15,
   "id": "3579933b-0519-4128-81d2-6c7c71e71823",
   "metadata": {},
   "outputs": [
    {
     "data": {
      "text/plain": [
       "[tensor([537, 715, 236, 454, 594, 672, 450, 540]),\n",
       " tensor([240, 369, 215, 155, 157, 340, 414, 162]),\n",
       " tensor([ 714, 1039,  577,  737,  935,  959,  544,  644]),\n",
       " tensor([585, 815, 825, 677, 841, 770, 671, 406])]"
      ]
     },
     "execution_count": 15,
     "metadata": {},
     "output_type": "execute_result"
    }
   ],
   "source": [
    "targets = []\n",
    "for bbox in b[\"label\"]:\n",
    "    targets.append(\n",
    "        {\n",
    "            \"bboxes\"\n",
    "        }\n",
    "    )"
   ]
  },
  {
   "cell_type": "code",
   "execution_count": 9,
   "id": "774442bd-eb16-44c9-acc8-9da76bc63aaa",
   "metadata": {
    "collapsed": true,
    "jupyter": {
     "outputs_hidden": true
    }
   },
   "outputs": [
    {
     "data": {
      "text/plain": [
       "[tensor([ 680,  183,  728,  936,  484,  574,  757, 1954]),\n",
       " tensor([ 274,  306,  200,  219,  225,  288,  375, 1077]),\n",
       " tensor([ 908,  530, 1233, 1104,  647,  702,  860, 2579]),\n",
       " tensor([ 683,  936,  848,  586,  652,  506,  572, 2166])]"
      ]
     },
     "execution_count": 9,
     "metadata": {},
     "output_type": "execute_result"
    }
   ],
   "source": [
    "b[\"label\"]"
   ]
  },
  {
   "cell_type": "code",
   "execution_count": 12,
   "id": "ebfeaa50-e843-4337-845f-82803aa35e2d",
   "metadata": {},
   "outputs": [
    {
     "data": {
      "text/plain": [
       "['4600680009421',\n",
       " '4690485102120',\n",
       " '4870069001722',\n",
       " '4680001220049',\n",
       " '4606068219635',\n",
       " '4630038960890',\n",
       " '4607023234441',\n",
       " '4607004890147']"
      ]
     },
     "execution_count": 12,
     "metadata": {},
     "output_type": "execute_result"
    }
   ],
   "source": [
    "val = data.val_dataloader()\n",
    "for b in val:\n",
    "    break\n",
    "b[\"ocr\"]"
   ]
  },
  {
   "cell_type": "code",
   "execution_count": 14,
   "id": "b615f39f-d37c-4ed7-89db-df7faf7a23ff",
   "metadata": {},
   "outputs": [
    {
     "data": {
      "text/plain": [
       "[tensor([537, 715, 236, 454, 594, 672, 450, 540]),\n",
       " tensor([240, 369, 215, 155, 157, 340, 414, 162]),\n",
       " tensor([ 714, 1039,  577,  737,  935,  959,  544,  644]),\n",
       " tensor([585, 815, 825, 677, 841, 770, 671, 406])]"
      ]
     },
     "execution_count": 14,
     "metadata": {},
     "output_type": "execute_result"
    }
   ],
   "source": [
    "test = data.test_dataloader()\n",
    "for b in test:\n",
    "    break\n",
    "b[\"label\"]"
   ]
  },
  {
   "cell_type": "code",
   "execution_count": null,
   "id": "de09efb9-7acc-4021-8eab-15582684102c",
   "metadata": {},
   "outputs": [],
   "source": []
  }
 ],
 "metadata": {
  "kernelspec": {
   "display_name": "Python 3 (ipykernel)",
   "language": "python",
   "name": "python3"
  },
  "language_info": {
   "codemirror_mode": {
    "name": "ipython",
    "version": 3
   },
   "file_extension": ".py",
   "mimetype": "text/x-python",
   "name": "python",
   "nbconvert_exporter": "python",
   "pygments_lexer": "ipython3",
   "version": "3.10.6"
  }
 },
 "nbformat": 4,
 "nbformat_minor": 5
}
