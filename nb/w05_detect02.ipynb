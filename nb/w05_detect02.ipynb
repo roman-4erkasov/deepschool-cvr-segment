{
 "cells": [
  {
   "cell_type": "code",
   "execution_count": 1,
   "id": "529186b3-2f41-4398-8fb9-8f6b45f6ded9",
   "metadata": {},
   "outputs": [],
   "source": [
    "import sys\n",
    "sys.path.append(\"..\")\n",
    "import math\n",
    "import torch\n",
    "import torch as th\n",
    "from PIL import Image\n",
    "import numpy as np\n",
    "\n",
    "import torchvision as thv\n",
    "# import torchmetrics as thm\n",
    "from torchmetrics.detection.mean_ap import MeanAveragePrecision\n",
    "# from torchvision.models.detection.re\n",
    "from torchvision.models.detection import retinanet_resnet50_fpn_v2, RetinaNet_ResNet50_FPN_V2_Weights\n",
    "\n",
    "\n",
    "from src.datamodule import BarcodeDM\n",
    "from src.config import Config"
   ]
  },
  {
   "cell_type": "code",
   "execution_count": 2,
   "id": "3edab35d-db1c-491c-8bb4-e53612d58344",
   "metadata": {},
   "outputs": [
    {
     "name": "stderr",
     "output_type": "stream",
     "text": [
      "Downloading: \"https://download.pytorch.org/models/retinanet_resnet50_fpn_v2_coco-5905b1c5.pth\" to /home/fatuus/.cache/torch/hub/checkpoints/retinanet_resnet50_fpn_v2_coco-5905b1c5.pth\n",
      "100%|████████████████████████████████████████████████████████████████████████████████████| 146M/146M [00:03<00:00, 44.3MB/s]\n"
     ]
    }
   ],
   "source": [
    "weights = RetinaNet_ResNet50_FPN_V2_Weights.DEFAULT\n",
    "model = retinanet_resnet50_fpn_v2(weights=weights, score_thresh=0.35)\n",
    "# Put the model in inference mode\n",
    "model.eval()\n",
    "# Get the transforms for the model's weights\n",
    "preprocess = weights.transforms()"
   ]
  },
  {
   "cell_type": "code",
   "execution_count": 5,
   "id": "5ac523d9-024e-4c6a-8129-b0529996661b",
   "metadata": {},
   "outputs": [
    {
     "data": {
      "text/plain": [
       "'Accepts ``PIL.Image``, batched ``(B, C, H, W)`` and single ``(C, H, W)`` image ``torch.Tensor`` objects. The images are rescaled to ``[0.0, 1.0]``.'"
      ]
     },
     "execution_count": 5,
     "metadata": {},
     "output_type": "execute_result"
    }
   ],
   "source": [
    "preprocess.describe()"
   ]
  },
  {
   "cell_type": "code",
   "execution_count": 6,
   "id": "eb66da08-6882-4777-829a-6c9d0cf85890",
   "metadata": {},
   "outputs": [],
   "source": [
    "cfg = Config.from_yaml(\"../config/baseline_detect.yml\")\n",
    "data = BarcodeDM(cfg.data_config, task=cfg.task, dry_run=True)\n",
    "\n",
    "data.prepare_data()\n",
    "data.setup()\n",
    "train_loader = data.train_dataloader()"
   ]
  },
  {
   "cell_type": "code",
   "execution_count": 7,
   "id": "81d2fc3f-b307-4b49-bf23-15dfb236eb2e",
   "metadata": {},
   "outputs": [],
   "source": [
    "for images, targets in train_loader:\n",
    "    break"
   ]
  },
  {
   "cell_type": "code",
   "execution_count": 12,
   "id": "692ac44c-8d72-4c13-bde6-89547826e07d",
   "metadata": {
    "scrolled": true
   },
   "outputs": [
    {
     "data": {
      "text/plain": [
       "{'categories': ['__background__',\n",
       "  'person',\n",
       "  'bicycle',\n",
       "  'car',\n",
       "  'motorcycle',\n",
       "  'airplane',\n",
       "  'bus',\n",
       "  'train',\n",
       "  'truck',\n",
       "  'boat',\n",
       "  'traffic light',\n",
       "  'fire hydrant',\n",
       "  'N/A',\n",
       "  'stop sign',\n",
       "  'parking meter',\n",
       "  'bench',\n",
       "  'bird',\n",
       "  'cat',\n",
       "  'dog',\n",
       "  'horse',\n",
       "  'sheep',\n",
       "  'cow',\n",
       "  'elephant',\n",
       "  'bear',\n",
       "  'zebra',\n",
       "  'giraffe',\n",
       "  'N/A',\n",
       "  'backpack',\n",
       "  'umbrella',\n",
       "  'N/A',\n",
       "  'N/A',\n",
       "  'handbag',\n",
       "  'tie',\n",
       "  'suitcase',\n",
       "  'frisbee',\n",
       "  'skis',\n",
       "  'snowboard',\n",
       "  'sports ball',\n",
       "  'kite',\n",
       "  'baseball bat',\n",
       "  'baseball glove',\n",
       "  'skateboard',\n",
       "  'surfboard',\n",
       "  'tennis racket',\n",
       "  'bottle',\n",
       "  'N/A',\n",
       "  'wine glass',\n",
       "  'cup',\n",
       "  'fork',\n",
       "  'knife',\n",
       "  'spoon',\n",
       "  'bowl',\n",
       "  'banana',\n",
       "  'apple',\n",
       "  'sandwich',\n",
       "  'orange',\n",
       "  'broccoli',\n",
       "  'carrot',\n",
       "  'hot dog',\n",
       "  'pizza',\n",
       "  'donut',\n",
       "  'cake',\n",
       "  'chair',\n",
       "  'couch',\n",
       "  'potted plant',\n",
       "  'bed',\n",
       "  'N/A',\n",
       "  'dining table',\n",
       "  'N/A',\n",
       "  'N/A',\n",
       "  'toilet',\n",
       "  'N/A',\n",
       "  'tv',\n",
       "  'laptop',\n",
       "  'mouse',\n",
       "  'remote',\n",
       "  'keyboard',\n",
       "  'cell phone',\n",
       "  'microwave',\n",
       "  'oven',\n",
       "  'toaster',\n",
       "  'sink',\n",
       "  'refrigerator',\n",
       "  'N/A',\n",
       "  'book',\n",
       "  'clock',\n",
       "  'vase',\n",
       "  'scissors',\n",
       "  'teddy bear',\n",
       "  'hair drier',\n",
       "  'toothbrush'],\n",
       " 'min_size': (1, 1),\n",
       " 'num_params': 38198935,\n",
       " 'recipe': 'https://github.com/pytorch/vision/pull/5756',\n",
       " '_metrics': {'COCO-val2017': {'box_map': 41.5}},\n",
       " '_docs': 'These weights were produced using an enhanced training recipe to boost the model accuracy.'}"
      ]
     },
     "execution_count": 12,
     "metadata": {},
     "output_type": "execute_result"
    }
   ],
   "source": [
    "# labels = [weights.meta[\"categories\"][i] for i in prediction[\"labels\"]]\n",
    "weights.meta"
   ]
  },
  {
   "cell_type": "code",
   "execution_count": 11,
   "id": "9bb0dc44-5009-4b30-8edf-355502db1f97",
   "metadata": {},
   "outputs": [
    {
     "data": {
      "text/plain": [
       "[tensor([[[0.3608, 0.3608, 0.3608,  ..., 0.5294, 0.5333, 0.6588],\n",
       "          [0.3608, 0.3608, 0.3608,  ..., 0.5294, 0.5333, 0.6588],\n",
       "          [0.3608, 0.3608, 0.3647,  ..., 0.5333, 0.5333, 0.6549],\n",
       "          ...,\n",
       "          [0.6039, 0.6039, 0.6039,  ..., 0.8941, 0.9059, 0.9176],\n",
       "          [0.6039, 0.6039, 0.6039,  ..., 0.8941, 0.9059, 0.9176],\n",
       "          [0.6078, 0.6039, 0.6078,  ..., 0.8941, 0.9059, 0.9176]],\n",
       " \n",
       "         [[0.2745, 0.2745, 0.2745,  ..., 0.5020, 0.5059, 0.6314],\n",
       "          [0.2745, 0.2745, 0.2745,  ..., 0.5020, 0.5059, 0.6314],\n",
       "          [0.2745, 0.2745, 0.2784,  ..., 0.5059, 0.5059, 0.6275],\n",
       "          ...,\n",
       "          [0.5529, 0.5529, 0.5569,  ..., 0.9098, 0.9216, 0.9333],\n",
       "          [0.5529, 0.5529, 0.5569,  ..., 0.9098, 0.9216, 0.9333],\n",
       "          [0.5569, 0.5529, 0.5608,  ..., 0.9098, 0.9216, 0.9333]],\n",
       " \n",
       "         [[0.2314, 0.2314, 0.2314,  ..., 0.4392, 0.4431, 0.5686],\n",
       "          [0.2314, 0.2314, 0.2314,  ..., 0.4392, 0.4431, 0.5686],\n",
       "          [0.2314, 0.2314, 0.2353,  ..., 0.4431, 0.4431, 0.5647],\n",
       "          ...,\n",
       "          [0.4784, 0.4784, 0.4706,  ..., 0.9451, 0.9569, 0.9686],\n",
       "          [0.4784, 0.4784, 0.4706,  ..., 0.9451, 0.9569, 0.9686],\n",
       "          [0.4824, 0.4784, 0.4745,  ..., 0.9451, 0.9569, 0.9686]]])]"
      ]
     },
     "execution_count": 11,
     "metadata": {},
     "output_type": "execute_result"
    }
   ],
   "source": [
    "[preprocess(images[0])]"
   ]
  },
  {
   "cell_type": "code",
   "execution_count": null,
   "id": "f6679664-b354-4099-ad8e-5780c3ac8988",
   "metadata": {},
   "outputs": [],
   "source": []
  }
 ],
 "metadata": {
  "kernelspec": {
   "display_name": "Python 3 (ipykernel)",
   "language": "python",
   "name": "python3"
  },
  "language_info": {
   "codemirror_mode": {
    "name": "ipython",
    "version": 3
   },
   "file_extension": ".py",
   "mimetype": "text/x-python",
   "name": "python",
   "nbconvert_exporter": "python",
   "pygments_lexer": "ipython3",
   "version": "3.10.6"
  }
 },
 "nbformat": 4,
 "nbformat_minor": 5
}
